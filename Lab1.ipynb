{
  "nbformat": 4,
  "nbformat_minor": 0,
  "metadata": {
    "colab": {
      "provenance": [],
      "authorship_tag": "ABX9TyMUymagkvuFFCImPFxpic1E",
      "include_colab_link": true
    },
    "kernelspec": {
      "name": "python3",
      "display_name": "Python 3"
    },
    "language_info": {
      "name": "python"
    }
  },
  "cells": [
    {
      "cell_type": "markdown",
      "metadata": {
        "id": "view-in-github",
        "colab_type": "text"
      },
      "source": [
        "<a href=\"https://colab.research.google.com/github/Lokizhong/ISYS2001-of-S1/blob/main/Lab1.ipynb\" target=\"_parent\"><img src=\"https://colab.research.google.com/assets/colab-badge.svg\" alt=\"Open In Colab\"/></a>"
      ]
    },
    {
      "cell_type": "code",
      "execution_count": null,
      "metadata": {
        "id": "L_bq3sYRnJwm"
      },
      "outputs": [],
      "source": []
    },
    {
      "cell_type": "markdown",
      "source": [
        "**Code Magnet algorithm**\n"
      ],
      "metadata": {
        "id": "f7TmcTxxnLIV"
      }
    },
    {
      "cell_type": "markdown",
      "source": [
        "**Heat the pan**\n"
      ],
      "metadata": {
        "id": "U0duxkIxnV7R"
      }
    },
    {
      "cell_type": "markdown",
      "source": [
        "**Crack the egg in a bowl**"
      ],
      "metadata": {
        "id": "Qz24ZOlUoMvy"
      }
    },
    {
      "cell_type": "markdown",
      "source": [
        "Whip the egg"
      ],
      "metadata": {
        "id": "45crYPSboavf"
      }
    },
    {
      "cell_type": "markdown",
      "source": [
        "Transfer the egg"
      ],
      "metadata": {
        "id": "FZgMCusVoi_O"
      }
    },
    {
      "cell_type": "markdown",
      "source": [
        "While eggs are fully cooked"
      ],
      "metadata": {
        "id": "AufxSyDHokUi"
      }
    },
    {
      "cell_type": "markdown",
      "source": [
        "add the cheese"
      ],
      "metadata": {
        "id": "4W-CLdvcoo8d"
      }
    },
    {
      "cell_type": "markdown",
      "source": [
        "Tansfer the egg to plate"
      ],
      "metadata": {
        "id": "qGWK-wE3oqfH"
      }
    },
    {
      "cell_type": "markdown",
      "source": [
        "serve"
      ],
      "metadata": {
        "id": "sVgZzzZcosjg"
      }
    },
    {
      "cell_type": "markdown",
      "source": [
        "remove the pan from heat"
      ],
      "metadata": {
        "id": "r0zSg828otYv"
      }
    }
  ]
}