{
  "nbformat": 4,
  "nbformat_minor": 0,
  "metadata": {
    "colab": {
      "provenance": [],
      "authorship_tag": "ABX9TyPPT1ncmc6Z7AGq6bG/7sQl",
      "include_colab_link": true
    },
    "kernelspec": {
      "name": "python3",
      "display_name": "Python 3"
    },
    "language_info": {
      "name": "python"
    }
  },
  "cells": [
    {
      "cell_type": "markdown",
      "metadata": {
        "id": "view-in-github",
        "colab_type": "text"
      },
      "source": [
        "<a href=\"https://colab.research.google.com/github/Lokizhong/ISYS2001-of-S1/blob/main/Lab1_2.ipynb\" target=\"_parent\"><img src=\"https://colab.research.google.com/assets/colab-badge.svg\" alt=\"Open In Colab\"/></a>"
      ]
    },
    {
      "cell_type": "code",
      "execution_count": null,
      "metadata": {
        "id": "0qIi1NvDqvQj"
      },
      "outputs": [],
      "source": []
    },
    {
      "cell_type": "markdown",
      "source": [],
      "metadata": {
        "id": "_DZu9hWdrI2B"
      }
    },
    {
      "cell_type": "code",
      "source": [
        "import random"
      ],
      "metadata": {
        "id": "PCiPJRAhsM1w"
      },
      "execution_count": 3,
      "outputs": []
    },
    {
      "cell_type": "code",
      "source": [
        "\n",
        "list_01 = ['Jimmy', 'Kim','John','Stacie']\n",
        "winner = random.choice(list_01)\n",
        "flavour = 'vanilla'\n",
        "print('Congratulations, ' + winner +\n",
        " ' you have won an ice cream sundae!')\n",
        "prompt = 'Would you like a cherry on top? '\n",
        "wants_cherry = input(prompt)\n",
        "order = flavour + ' sundae '\n",
        "if (wants_cherry == 'yes'):\n",
        " order = order + ' with a cherry on top'\n",
        "\n",
        "print('One ' + order + ' for ' + winner +\n",
        " ' coming right up...')"
      ],
      "metadata": {
        "colab": {
          "base_uri": "https://localhost:8080/"
        },
        "id": "8xNiSNtSrhVJ",
        "outputId": "830b2654-6064-4d35-b6a6-c60142b6c6de"
      },
      "execution_count": 10,
      "outputs": [
        {
          "output_type": "stream",
          "name": "stdout",
          "text": [
            "Congratulations, John you have won an ice cream sundae!\n",
            "Would you like a cherry on top? YES\n",
            "One vanilla sundae  for John coming right up...\n"
          ]
        }
      ]
    }
  ]
}